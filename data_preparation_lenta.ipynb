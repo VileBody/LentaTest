{
  "nbformat": 4,
  "nbformat_minor": 0,
  "metadata": {
    "colab": {
      "name": "data_preparation_lenta.ipynb",
      "provenance": []
    },
    "kernelspec": {
      "name": "python3",
      "display_name": "Python 3"
    },
    "language_info": {
      "name": "python"
    }
  },
  "cells": [
    {
      "cell_type": "code",
      "execution_count": 1,
      "metadata": {
        "colab": {
          "base_uri": "https://localhost:8080/"
        },
        "id": "ylt2hLjQJIxl",
        "outputId": "4fc84b4c-730c-4fee-95b9-789fecc15331"
      },
      "outputs": [
        {
          "output_type": "stream",
          "name": "stdout",
          "text": [
            "Drive already mounted at /content/drive; to attempt to forcibly remount, call drive.mount(\"/content/drive\", force_remount=True).\n"
          ]
        }
      ],
      "source": [
        "from google.colab import drive\n",
        "\n",
        "drive.mount('/content/drive')"
      ]
    },
    {
      "cell_type": "code",
      "source": [
        "cd /content/drive/MyDrive/pricing_task"
      ],
      "metadata": {
        "colab": {
          "base_uri": "https://localhost:8080/"
        },
        "id": "pmjv6QnNSTig",
        "outputId": "dfe6e169-6c86-41db-90f6-4292ec5edfb4"
      },
      "execution_count": 1,
      "outputs": [
        {
          "output_type": "stream",
          "name": "stdout",
          "text": [
            "/content/drive/MyDrive/pricing_task\n"
          ]
        }
      ]
    },
    {
      "cell_type": "code",
      "source": [
        "import pandas as pd\n",
        "pricing_checks_train = pd.read_csv('pricing_checks_train.csv', header=None).iloc[:500000]\n",
        "pricing_hierarchy = pd.read_csv('pricing_hierarchy.csv', header=None).iloc[:500000]\n",
        "pricing_prices_train = pd.read_csv('pricing_prices_train.csv', header=None)#.iloc[:500000]\n",
        "pricing_shops = pd.read_csv('pricing_shops.csv', header=None).iloc[:500000]"
      ],
      "metadata": {
        "id": "5xZ7V25cSWII"
      },
      "execution_count": 2,
      "outputs": []
    },
    {
      "cell_type": "markdown",
      "source": [
        "Спасибо за названия колонок!"
      ],
      "metadata": {
        "id": "5uPXEeCqXJbf"
      }
    },
    {
      "cell_type": "code",
      "source": [
        "pricing_checks_train.columns = [\n",
        "                                'client_id', 'day', 'shop_id',  'check_id', 'time',  'sku', 'promo_id', 'check_pos', 'num_sales', 'region_name'\n",
        "]"
      ],
      "metadata": {
        "id": "DrmEZ4aFXECr"
      },
      "execution_count": 3,
      "outputs": []
    },
    {
      "cell_type": "markdown",
      "source": [
        "Region name потеряли)))"
      ],
      "metadata": {
        "id": "xl20_wETiozC"
      }
    },
    {
      "cell_type": "code",
      "source": [
        "pricing_prices_train.columns = ['day', 'shop_id' , 'sku', 'promo_id' , 'reg_price', 'promo_price', 'reg_card_price']"
      ],
      "metadata": {
        "id": "vbeWfWqDh9yU"
      },
      "execution_count": 4,
      "outputs": []
    },
    {
      "cell_type": "code",
      "source": [
        "pricing_hierarchy.columns = ['sku','class', 'group', 'category', 'subcategory']"
      ],
      "metadata": {
        "id": "vUwv7sXuitCu"
      },
      "execution_count": 5,
      "outputs": []
    },
    {
      "cell_type": "code",
      "source": [
        "pricing_shops.columns = ['division_id', 'region_id', 'city_id', 'shop_id', 'type_loc_id', 'type_size_id', 'type_format_id', 'type_wealth_id', 'is_store', 'is_active', 'is_ex_billa']"
      ],
      "metadata": {
        "id": "1EKsTG7Vi_XU"
      },
      "execution_count": 6,
      "outputs": []
    },
    {
      "cell_type": "code",
      "source": [
        "from itertools import product\n",
        "cols = [pricing_checks_train.columns.values, pricing_hierarchy.columns.values, pricing_prices_train.columns.values, pricing_shops.columns.values]\n"
      ],
      "metadata": {
        "id": "KfYMXAmbjxs6"
      },
      "execution_count": 7,
      "outputs": []
    },
    {
      "cell_type": "code",
      "source": [
        "mutual_cols = set(cols[0]) & set(cols[2])"
      ],
      "metadata": {
        "id": "ieJdmbAznV58"
      },
      "execution_count": 8,
      "outputs": []
    },
    {
      "cell_type": "code",
      "source": [
        "prices_checks = pricing_prices_train.merge(pricing_checks_train, on=list(mutual_cols), how='right')"
      ],
      "metadata": {
        "id": "WKNUBbaXobRk"
      },
      "execution_count": 9,
      "outputs": []
    },
    {
      "cell_type": "code",
      "source": [
        "prices_checks = prices_checks.merge(pricing_hierarchy, how='left')"
      ],
      "metadata": {
        "id": "f-YIrQPhqJ5s"
      },
      "execution_count": 12,
      "outputs": []
    },
    {
      "cell_type": "code",
      "source": [
        "prices_checks = prices_checks.merge(pricing_shops, how='left')"
      ],
      "metadata": {
        "id": "UZJ6n18_st2Z"
      },
      "execution_count": 13,
      "outputs": []
    },
    {
      "cell_type": "code",
      "source": [
        "prices_checks.to_csv('surely_thats_will_be_enough_for_testing.csv')"
      ],
      "metadata": {
        "id": "_gDfNve4syMc"
      },
      "execution_count": 16,
      "outputs": []
    }
  ]
}