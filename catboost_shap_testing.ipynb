{
  "nbformat": 4,
  "nbformat_minor": 0,
  "metadata": {
    "colab": {
      "name": "catboost_shap_testing.ipynb",
      "provenance": []
    },
    "kernelspec": {
      "name": "python3",
      "display_name": "Python 3"
    },
    "language_info": {
      "name": "python"
    },
    "accelerator": "GPU"
  },
  "cells": [
    {
      "cell_type": "code",
      "execution_count": null,
      "metadata": {
        "colab": {
          "base_uri": "https://localhost:8080/"
        },
        "id": "ylt2hLjQJIxl",
        "outputId": "face98a0-b71c-4109-898b-cdd7abeb39a6"
      },
      "outputs": [
        {
          "output_type": "stream",
          "name": "stdout",
          "text": [
            "Drive already mounted at /content/drive; to attempt to forcibly remount, call drive.mount(\"/content/drive\", force_remount=True).\n"
          ]
        }
      ],
      "source": [
        "from google.colab import drive\n",
        "\n",
        "drive.mount('/content/drive')"
      ]
    },
    {
      "cell_type": "code",
      "source": [
        "cd /content/drive/MyDrive/pricing_task"
      ],
      "metadata": {
        "colab": {
          "base_uri": "https://localhost:8080/"
        },
        "id": "pmjv6QnNSTig",
        "outputId": "bf085cad-272c-47b3-b3e0-452ead1a99e1"
      },
      "execution_count": null,
      "outputs": [
        {
          "output_type": "stream",
          "name": "stdout",
          "text": [
            "/content/drive/MyDrive/pricing_task\n"
          ]
        }
      ]
    },
    {
      "cell_type": "code",
      "source": [
        "import pandas as pd\n",
        "data = pd.read_csv('surely_thats_will_be_enough_for_testing_shap.csv', index_col=0)"
      ],
      "metadata": {
        "id": "5xZ7V25cSWII"
      },
      "execution_count": null,
      "outputs": []
    },
    {
      "cell_type": "code",
      "source": [
        "data.describe()"
      ],
      "metadata": {
        "colab": {
          "base_uri": "https://localhost:8080/",
          "height": 364
        },
        "id": "kX1kMRyYtzZp",
        "outputId": "863be4e6-590d-4d1a-cdbf-3a265ca9fd73"
      },
      "execution_count": null,
      "outputs": [
        {
          "output_type": "execute_result",
          "data": {
            "text/plain": [
              "                day  reg_price    promo_price  reg_card_price      check_pos  \\\n",
              "count  5.000000e+05   235937.0  235937.000000        235937.0  500000.000000   \n",
              "mean   2.019216e+07        0.0     122.964926             0.0      10.360064   \n",
              "std    1.045863e+04        0.0     230.679199             0.0      10.638748   \n",
              "min    2.018011e+07        0.0       0.090000             0.0       1.000000   \n",
              "25%    2.018081e+07        0.0      39.990000             0.0       3.000000   \n",
              "50%    2.019052e+07        0.0      69.990000             0.0       7.000000   \n",
              "75%    2.020062e+07        0.0     134.990000             0.0      14.000000   \n",
              "max    2.021063e+07        0.0   19999.000000             0.0     132.000000   \n",
              "\n",
              "           num_sales    type_loc_id   type_size_id  type_format_id  \\\n",
              "count  500000.000000  500000.000000  500000.000000        500000.0   \n",
              "mean        1.498468       1.550124       4.860048             1.0   \n",
              "std         1.694234       0.497482       2.198567             0.0   \n",
              "min         0.024000       1.000000       0.000000             1.0   \n",
              "25%         1.000000       1.000000       3.000000             1.0   \n",
              "50%         1.000000       2.000000       4.000000             1.0   \n",
              "75%         1.704000       2.000000       7.000000             1.0   \n",
              "max       168.000000       2.000000       8.000000             1.0   \n",
              "\n",
              "       type_wealth_id  is_store      is_active  is_ex_billa  \n",
              "count   500000.000000  500000.0  500000.000000     500000.0  \n",
              "mean         1.523196       1.0       0.977062          0.0  \n",
              "std          0.508652       0.0       0.149706          0.0  \n",
              "min          0.000000       1.0       0.000000          0.0  \n",
              "25%          1.000000       1.0       1.000000          0.0  \n",
              "50%          2.000000       1.0       1.000000          0.0  \n",
              "75%          2.000000       1.0       1.000000          0.0  \n",
              "max          2.000000       1.0       1.000000          0.0  "
            ],
            "text/html": [
              "\n",
              "  <div id=\"df-98ced87b-480c-43f4-81d9-975ef571ac2a\">\n",
              "    <div class=\"colab-df-container\">\n",
              "      <div>\n",
              "<style scoped>\n",
              "    .dataframe tbody tr th:only-of-type {\n",
              "        vertical-align: middle;\n",
              "    }\n",
              "\n",
              "    .dataframe tbody tr th {\n",
              "        vertical-align: top;\n",
              "    }\n",
              "\n",
              "    .dataframe thead th {\n",
              "        text-align: right;\n",
              "    }\n",
              "</style>\n",
              "<table border=\"1\" class=\"dataframe\">\n",
              "  <thead>\n",
              "    <tr style=\"text-align: right;\">\n",
              "      <th></th>\n",
              "      <th>day</th>\n",
              "      <th>reg_price</th>\n",
              "      <th>promo_price</th>\n",
              "      <th>reg_card_price</th>\n",
              "      <th>check_pos</th>\n",
              "      <th>num_sales</th>\n",
              "      <th>type_loc_id</th>\n",
              "      <th>type_size_id</th>\n",
              "      <th>type_format_id</th>\n",
              "      <th>type_wealth_id</th>\n",
              "      <th>is_store</th>\n",
              "      <th>is_active</th>\n",
              "      <th>is_ex_billa</th>\n",
              "    </tr>\n",
              "  </thead>\n",
              "  <tbody>\n",
              "    <tr>\n",
              "      <th>count</th>\n",
              "      <td>5.000000e+05</td>\n",
              "      <td>235937.0</td>\n",
              "      <td>235937.000000</td>\n",
              "      <td>235937.0</td>\n",
              "      <td>500000.000000</td>\n",
              "      <td>500000.000000</td>\n",
              "      <td>500000.000000</td>\n",
              "      <td>500000.000000</td>\n",
              "      <td>500000.0</td>\n",
              "      <td>500000.000000</td>\n",
              "      <td>500000.0</td>\n",
              "      <td>500000.000000</td>\n",
              "      <td>500000.0</td>\n",
              "    </tr>\n",
              "    <tr>\n",
              "      <th>mean</th>\n",
              "      <td>2.019216e+07</td>\n",
              "      <td>0.0</td>\n",
              "      <td>122.964926</td>\n",
              "      <td>0.0</td>\n",
              "      <td>10.360064</td>\n",
              "      <td>1.498468</td>\n",
              "      <td>1.550124</td>\n",
              "      <td>4.860048</td>\n",
              "      <td>1.0</td>\n",
              "      <td>1.523196</td>\n",
              "      <td>1.0</td>\n",
              "      <td>0.977062</td>\n",
              "      <td>0.0</td>\n",
              "    </tr>\n",
              "    <tr>\n",
              "      <th>std</th>\n",
              "      <td>1.045863e+04</td>\n",
              "      <td>0.0</td>\n",
              "      <td>230.679199</td>\n",
              "      <td>0.0</td>\n",
              "      <td>10.638748</td>\n",
              "      <td>1.694234</td>\n",
              "      <td>0.497482</td>\n",
              "      <td>2.198567</td>\n",
              "      <td>0.0</td>\n",
              "      <td>0.508652</td>\n",
              "      <td>0.0</td>\n",
              "      <td>0.149706</td>\n",
              "      <td>0.0</td>\n",
              "    </tr>\n",
              "    <tr>\n",
              "      <th>min</th>\n",
              "      <td>2.018011e+07</td>\n",
              "      <td>0.0</td>\n",
              "      <td>0.090000</td>\n",
              "      <td>0.0</td>\n",
              "      <td>1.000000</td>\n",
              "      <td>0.024000</td>\n",
              "      <td>1.000000</td>\n",
              "      <td>0.000000</td>\n",
              "      <td>1.0</td>\n",
              "      <td>0.000000</td>\n",
              "      <td>1.0</td>\n",
              "      <td>0.000000</td>\n",
              "      <td>0.0</td>\n",
              "    </tr>\n",
              "    <tr>\n",
              "      <th>25%</th>\n",
              "      <td>2.018081e+07</td>\n",
              "      <td>0.0</td>\n",
              "      <td>39.990000</td>\n",
              "      <td>0.0</td>\n",
              "      <td>3.000000</td>\n",
              "      <td>1.000000</td>\n",
              "      <td>1.000000</td>\n",
              "      <td>3.000000</td>\n",
              "      <td>1.0</td>\n",
              "      <td>1.000000</td>\n",
              "      <td>1.0</td>\n",
              "      <td>1.000000</td>\n",
              "      <td>0.0</td>\n",
              "    </tr>\n",
              "    <tr>\n",
              "      <th>50%</th>\n",
              "      <td>2.019052e+07</td>\n",
              "      <td>0.0</td>\n",
              "      <td>69.990000</td>\n",
              "      <td>0.0</td>\n",
              "      <td>7.000000</td>\n",
              "      <td>1.000000</td>\n",
              "      <td>2.000000</td>\n",
              "      <td>4.000000</td>\n",
              "      <td>1.0</td>\n",
              "      <td>2.000000</td>\n",
              "      <td>1.0</td>\n",
              "      <td>1.000000</td>\n",
              "      <td>0.0</td>\n",
              "    </tr>\n",
              "    <tr>\n",
              "      <th>75%</th>\n",
              "      <td>2.020062e+07</td>\n",
              "      <td>0.0</td>\n",
              "      <td>134.990000</td>\n",
              "      <td>0.0</td>\n",
              "      <td>14.000000</td>\n",
              "      <td>1.704000</td>\n",
              "      <td>2.000000</td>\n",
              "      <td>7.000000</td>\n",
              "      <td>1.0</td>\n",
              "      <td>2.000000</td>\n",
              "      <td>1.0</td>\n",
              "      <td>1.000000</td>\n",
              "      <td>0.0</td>\n",
              "    </tr>\n",
              "    <tr>\n",
              "      <th>max</th>\n",
              "      <td>2.021063e+07</td>\n",
              "      <td>0.0</td>\n",
              "      <td>19999.000000</td>\n",
              "      <td>0.0</td>\n",
              "      <td>132.000000</td>\n",
              "      <td>168.000000</td>\n",
              "      <td>2.000000</td>\n",
              "      <td>8.000000</td>\n",
              "      <td>1.0</td>\n",
              "      <td>2.000000</td>\n",
              "      <td>1.0</td>\n",
              "      <td>1.000000</td>\n",
              "      <td>0.0</td>\n",
              "    </tr>\n",
              "  </tbody>\n",
              "</table>\n",
              "</div>\n",
              "      <button class=\"colab-df-convert\" onclick=\"convertToInteractive('df-98ced87b-480c-43f4-81d9-975ef571ac2a')\"\n",
              "              title=\"Convert this dataframe to an interactive table.\"\n",
              "              style=\"display:none;\">\n",
              "        \n",
              "  <svg xmlns=\"http://www.w3.org/2000/svg\" height=\"24px\"viewBox=\"0 0 24 24\"\n",
              "       width=\"24px\">\n",
              "    <path d=\"M0 0h24v24H0V0z\" fill=\"none\"/>\n",
              "    <path d=\"M18.56 5.44l.94 2.06.94-2.06 2.06-.94-2.06-.94-.94-2.06-.94 2.06-2.06.94zm-11 1L8.5 8.5l.94-2.06 2.06-.94-2.06-.94L8.5 2.5l-.94 2.06-2.06.94zm10 10l.94 2.06.94-2.06 2.06-.94-2.06-.94-.94-2.06-.94 2.06-2.06.94z\"/><path d=\"M17.41 7.96l-1.37-1.37c-.4-.4-.92-.59-1.43-.59-.52 0-1.04.2-1.43.59L10.3 9.45l-7.72 7.72c-.78.78-.78 2.05 0 2.83L4 21.41c.39.39.9.59 1.41.59.51 0 1.02-.2 1.41-.59l7.78-7.78 2.81-2.81c.8-.78.8-2.07 0-2.86zM5.41 20L4 18.59l7.72-7.72 1.47 1.35L5.41 20z\"/>\n",
              "  </svg>\n",
              "      </button>\n",
              "      \n",
              "  <style>\n",
              "    .colab-df-container {\n",
              "      display:flex;\n",
              "      flex-wrap:wrap;\n",
              "      gap: 12px;\n",
              "    }\n",
              "\n",
              "    .colab-df-convert {\n",
              "      background-color: #E8F0FE;\n",
              "      border: none;\n",
              "      border-radius: 50%;\n",
              "      cursor: pointer;\n",
              "      display: none;\n",
              "      fill: #1967D2;\n",
              "      height: 32px;\n",
              "      padding: 0 0 0 0;\n",
              "      width: 32px;\n",
              "    }\n",
              "\n",
              "    .colab-df-convert:hover {\n",
              "      background-color: #E2EBFA;\n",
              "      box-shadow: 0px 1px 2px rgba(60, 64, 67, 0.3), 0px 1px 3px 1px rgba(60, 64, 67, 0.15);\n",
              "      fill: #174EA6;\n",
              "    }\n",
              "\n",
              "    [theme=dark] .colab-df-convert {\n",
              "      background-color: #3B4455;\n",
              "      fill: #D2E3FC;\n",
              "    }\n",
              "\n",
              "    [theme=dark] .colab-df-convert:hover {\n",
              "      background-color: #434B5C;\n",
              "      box-shadow: 0px 1px 3px 1px rgba(0, 0, 0, 0.15);\n",
              "      filter: drop-shadow(0px 1px 2px rgba(0, 0, 0, 0.3));\n",
              "      fill: #FFFFFF;\n",
              "    }\n",
              "  </style>\n",
              "\n",
              "      <script>\n",
              "        const buttonEl =\n",
              "          document.querySelector('#df-98ced87b-480c-43f4-81d9-975ef571ac2a button.colab-df-convert');\n",
              "        buttonEl.style.display =\n",
              "          google.colab.kernel.accessAllowed ? 'block' : 'none';\n",
              "\n",
              "        async function convertToInteractive(key) {\n",
              "          const element = document.querySelector('#df-98ced87b-480c-43f4-81d9-975ef571ac2a');\n",
              "          const dataTable =\n",
              "            await google.colab.kernel.invokeFunction('convertToInteractive',\n",
              "                                                     [key], {});\n",
              "          if (!dataTable) return;\n",
              "\n",
              "          const docLinkHtml = 'Like what you see? Visit the ' +\n",
              "            '<a target=\"_blank\" href=https://colab.research.google.com/notebooks/data_table.ipynb>data table notebook</a>'\n",
              "            + ' to learn more about interactive tables.';\n",
              "          element.innerHTML = '';\n",
              "          dataTable['output_type'] = 'display_data';\n",
              "          await google.colab.output.renderOutput(dataTable, element);\n",
              "          const docLink = document.createElement('div');\n",
              "          docLink.innerHTML = docLinkHtml;\n",
              "          element.appendChild(docLink);\n",
              "        }\n",
              "      </script>\n",
              "    </div>\n",
              "  </div>\n",
              "  "
            ]
          },
          "metadata": {},
          "execution_count": 4
        }
      ]
    },
    {
      "cell_type": "code",
      "source": [
        "data = data.drop(['reg_price', 'reg_card_price'], axis=1)"
      ],
      "metadata": {
        "id": "H_Xm1YieuZm4"
      },
      "execution_count": null,
      "outputs": []
    },
    {
      "cell_type": "code",
      "source": [
        "!pip install catboost"
      ],
      "metadata": {
        "colab": {
          "base_uri": "https://localhost:8080/"
        },
        "id": "tUbXrZfRvAOn",
        "outputId": "30c1c634-f1c6-43ce-81a3-64a708a92f25"
      },
      "execution_count": null,
      "outputs": [
        {
          "output_type": "stream",
          "name": "stdout",
          "text": [
            "Looking in indexes: https://pypi.org/simple, https://us-python.pkg.dev/colab-wheels/public/simple/\n",
            "Requirement already satisfied: catboost in /usr/local/lib/python3.7/dist-packages (1.0.6)\n",
            "Requirement already satisfied: numpy>=1.16.0 in /usr/local/lib/python3.7/dist-packages (from catboost) (1.21.6)\n",
            "Requirement already satisfied: six in /usr/local/lib/python3.7/dist-packages (from catboost) (1.15.0)\n",
            "Requirement already satisfied: graphviz in /usr/local/lib/python3.7/dist-packages (from catboost) (0.10.1)\n",
            "Requirement already satisfied: matplotlib in /usr/local/lib/python3.7/dist-packages (from catboost) (3.2.2)\n",
            "Requirement already satisfied: plotly in /usr/local/lib/python3.7/dist-packages (from catboost) (5.5.0)\n",
            "Requirement already satisfied: pandas>=0.24.0 in /usr/local/lib/python3.7/dist-packages (from catboost) (1.3.5)\n",
            "Requirement already satisfied: scipy in /usr/local/lib/python3.7/dist-packages (from catboost) (1.4.1)\n",
            "Requirement already satisfied: python-dateutil>=2.7.3 in /usr/local/lib/python3.7/dist-packages (from pandas>=0.24.0->catboost) (2.8.2)\n",
            "Requirement already satisfied: pytz>=2017.3 in /usr/local/lib/python3.7/dist-packages (from pandas>=0.24.0->catboost) (2022.1)\n",
            "Requirement already satisfied: kiwisolver>=1.0.1 in /usr/local/lib/python3.7/dist-packages (from matplotlib->catboost) (1.4.2)\n",
            "Requirement already satisfied: cycler>=0.10 in /usr/local/lib/python3.7/dist-packages (from matplotlib->catboost) (0.11.0)\n",
            "Requirement already satisfied: pyparsing!=2.0.4,!=2.1.2,!=2.1.6,>=2.0.1 in /usr/local/lib/python3.7/dist-packages (from matplotlib->catboost) (3.0.9)\n",
            "Requirement already satisfied: typing-extensions in /usr/local/lib/python3.7/dist-packages (from kiwisolver>=1.0.1->matplotlib->catboost) (4.2.0)\n",
            "Requirement already satisfied: tenacity>=6.2.0 in /usr/local/lib/python3.7/dist-packages (from plotly->catboost) (8.0.1)\n"
          ]
        }
      ]
    },
    {
      "cell_type": "code",
      "source": [
        "from sklearn.model_selection import train_test_split\n",
        "X, y = data.fillna(0).drop('num_sales', axis=1), data['num_sales']\n",
        "features_train, features_eval, target_train, target_eval = train_test_split(X, y, train_size=0.75)"
      ],
      "metadata": {
        "id": "QzI7dF_DvtLn"
      },
      "execution_count": null,
      "outputs": []
    },
    {
      "cell_type": "code",
      "source": [
        "X.info()"
      ],
      "metadata": {
        "colab": {
          "base_uri": "https://localhost:8080/"
        },
        "id": "1gwQKNqxw0qy",
        "outputId": "acfe384a-db45-44d0-f982-931d6f6bb5d7"
      },
      "execution_count": null,
      "outputs": [
        {
          "output_type": "stream",
          "name": "stdout",
          "text": [
            "<class 'pandas.core.frame.DataFrame'>\n",
            "Int64Index: 500000 entries, 0 to 499999\n",
            "Data columns (total 24 columns):\n",
            " #   Column          Non-Null Count   Dtype  \n",
            "---  ------          --------------   -----  \n",
            " 0   day             500000 non-null  int64  \n",
            " 1   shop_id         500000 non-null  object \n",
            " 2   sku             500000 non-null  object \n",
            " 3   promo_id        500000 non-null  object \n",
            " 4   promo_price     500000 non-null  float64\n",
            " 5   client_id       500000 non-null  object \n",
            " 6   check_id        500000 non-null  object \n",
            " 7   time            500000 non-null  object \n",
            " 8   check_pos       500000 non-null  int64  \n",
            " 9   region_name     500000 non-null  object \n",
            " 10  class           500000 non-null  object \n",
            " 11  group           500000 non-null  object \n",
            " 12  category        500000 non-null  object \n",
            " 13  subcategory     500000 non-null  object \n",
            " 14  division_id     500000 non-null  object \n",
            " 15  region_id       500000 non-null  object \n",
            " 16  city_id         500000 non-null  object \n",
            " 17  type_loc_id     500000 non-null  int64  \n",
            " 18  type_size_id    500000 non-null  int64  \n",
            " 19  type_format_id  500000 non-null  int64  \n",
            " 20  type_wealth_id  500000 non-null  int64  \n",
            " 21  is_store        500000 non-null  int64  \n",
            " 22  is_active       500000 non-null  int64  \n",
            " 23  is_ex_billa     500000 non-null  int64  \n",
            "dtypes: float64(1), int64(9), object(14)\n",
            "memory usage: 95.4+ MB\n"
          ]
        }
      ]
    },
    {
      "cell_type": "code",
      "source": [
        "cat_features = ['shop_id', 'sku', 'promo_id', 'client_id', 'check_id', 'region_name', \n",
        "                'class', 'group', 'category', 'subcategory', 'division_id', 'region_id', \n",
        "                'city_id', 'type_loc_id', 'type_size_id', 'type_format_id', 'type_wealth_id', 'is_store', 'is_active', 'is_ex_billa', 'time']"
      ],
      "metadata": {
        "id": "3Vu7zPAJw2Lz"
      },
      "execution_count": null,
      "outputs": []
    },
    {
      "cell_type": "code",
      "source": [
        "X.head(3)"
      ],
      "metadata": {
        "colab": {
          "base_uri": "https://localhost:8080/",
          "height": 237
        },
        "id": "q3ru0mBOwbh8",
        "outputId": "70449731-e816-4a00-9432-fd22ad4eb06e"
      },
      "execution_count": null,
      "outputs": [
        {
          "output_type": "execute_result",
          "data": {
            "text/plain": [
              "        day                           shop_id  \\\n",
              "0  20191017  d2ac32e14d651b9ed03f26f845a11597   \n",
              "1  20191017  d2ac32e14d651b9ed03f26f845a11597   \n",
              "2  20191017  d2ac32e14d651b9ed03f26f845a11597   \n",
              "\n",
              "                                sku                          promo_id  \\\n",
              "0  98f463552b07d49686c8be996251c778  7215ee9c7d9dc229d2921a40e899ec5f   \n",
              "1  b75147feae4cf8ec07fb5f2cef855def  7215ee9c7d9dc229d2921a40e899ec5f   \n",
              "2  16b4bff70d409ddb77c8107a528cf94b  7215ee9c7d9dc229d2921a40e899ec5f   \n",
              "\n",
              "   promo_price                         client_id  \\\n",
              "0          0.0  644474c3d41185fa4c4f427095954f06   \n",
              "1          0.0  644474c3d41185fa4c4f427095954f06   \n",
              "2          0.0  644474c3d41185fa4c4f427095954f06   \n",
              "\n",
              "                           check_id      time  check_pos  \\\n",
              "0  f0478c7f392532b5b9843e144a31cb78  14:35:26          4   \n",
              "1  f0478c7f392532b5b9843e144a31cb78  14:35:26          1   \n",
              "2  f0478c7f392532b5b9843e144a31cb78  14:35:26          8   \n",
              "\n",
              "                        region_name  ...                       division_id  \\\n",
              "0  7e35e74e610188414ad24235dd787c78  ...  e4da3b7fbbce2345d7772b0674a318d5   \n",
              "1  7e35e74e610188414ad24235dd787c78  ...  e4da3b7fbbce2345d7772b0674a318d5   \n",
              "2  7e35e74e610188414ad24235dd787c78  ...  e4da3b7fbbce2345d7772b0674a318d5   \n",
              "\n",
              "                          region_id                           city_id  \\\n",
              "0  44f683a84163b3523afe57c2e008bc8c  b8c37e33defde51cf91e1e03e51657da   \n",
              "1  44f683a84163b3523afe57c2e008bc8c  b8c37e33defde51cf91e1e03e51657da   \n",
              "2  44f683a84163b3523afe57c2e008bc8c  b8c37e33defde51cf91e1e03e51657da   \n",
              "\n",
              "  type_loc_id type_size_id type_format_id type_wealth_id  is_store  is_active  \\\n",
              "0           2            6              1              1         1          1   \n",
              "1           2            6              1              1         1          1   \n",
              "2           2            6              1              1         1          1   \n",
              "\n",
              "   is_ex_billa  \n",
              "0            0  \n",
              "1            0  \n",
              "2            0  \n",
              "\n",
              "[3 rows x 24 columns]"
            ],
            "text/html": [
              "\n",
              "  <div id=\"df-920ae651-33c4-4dad-98b0-8718eb233301\">\n",
              "    <div class=\"colab-df-container\">\n",
              "      <div>\n",
              "<style scoped>\n",
              "    .dataframe tbody tr th:only-of-type {\n",
              "        vertical-align: middle;\n",
              "    }\n",
              "\n",
              "    .dataframe tbody tr th {\n",
              "        vertical-align: top;\n",
              "    }\n",
              "\n",
              "    .dataframe thead th {\n",
              "        text-align: right;\n",
              "    }\n",
              "</style>\n",
              "<table border=\"1\" class=\"dataframe\">\n",
              "  <thead>\n",
              "    <tr style=\"text-align: right;\">\n",
              "      <th></th>\n",
              "      <th>day</th>\n",
              "      <th>shop_id</th>\n",
              "      <th>sku</th>\n",
              "      <th>promo_id</th>\n",
              "      <th>promo_price</th>\n",
              "      <th>client_id</th>\n",
              "      <th>check_id</th>\n",
              "      <th>time</th>\n",
              "      <th>check_pos</th>\n",
              "      <th>region_name</th>\n",
              "      <th>...</th>\n",
              "      <th>division_id</th>\n",
              "      <th>region_id</th>\n",
              "      <th>city_id</th>\n",
              "      <th>type_loc_id</th>\n",
              "      <th>type_size_id</th>\n",
              "      <th>type_format_id</th>\n",
              "      <th>type_wealth_id</th>\n",
              "      <th>is_store</th>\n",
              "      <th>is_active</th>\n",
              "      <th>is_ex_billa</th>\n",
              "    </tr>\n",
              "  </thead>\n",
              "  <tbody>\n",
              "    <tr>\n",
              "      <th>0</th>\n",
              "      <td>20191017</td>\n",
              "      <td>d2ac32e14d651b9ed03f26f845a11597</td>\n",
              "      <td>98f463552b07d49686c8be996251c778</td>\n",
              "      <td>7215ee9c7d9dc229d2921a40e899ec5f</td>\n",
              "      <td>0.0</td>\n",
              "      <td>644474c3d41185fa4c4f427095954f06</td>\n",
              "      <td>f0478c7f392532b5b9843e144a31cb78</td>\n",
              "      <td>14:35:26</td>\n",
              "      <td>4</td>\n",
              "      <td>7e35e74e610188414ad24235dd787c78</td>\n",
              "      <td>...</td>\n",
              "      <td>e4da3b7fbbce2345d7772b0674a318d5</td>\n",
              "      <td>44f683a84163b3523afe57c2e008bc8c</td>\n",
              "      <td>b8c37e33defde51cf91e1e03e51657da</td>\n",
              "      <td>2</td>\n",
              "      <td>6</td>\n",
              "      <td>1</td>\n",
              "      <td>1</td>\n",
              "      <td>1</td>\n",
              "      <td>1</td>\n",
              "      <td>0</td>\n",
              "    </tr>\n",
              "    <tr>\n",
              "      <th>1</th>\n",
              "      <td>20191017</td>\n",
              "      <td>d2ac32e14d651b9ed03f26f845a11597</td>\n",
              "      <td>b75147feae4cf8ec07fb5f2cef855def</td>\n",
              "      <td>7215ee9c7d9dc229d2921a40e899ec5f</td>\n",
              "      <td>0.0</td>\n",
              "      <td>644474c3d41185fa4c4f427095954f06</td>\n",
              "      <td>f0478c7f392532b5b9843e144a31cb78</td>\n",
              "      <td>14:35:26</td>\n",
              "      <td>1</td>\n",
              "      <td>7e35e74e610188414ad24235dd787c78</td>\n",
              "      <td>...</td>\n",
              "      <td>e4da3b7fbbce2345d7772b0674a318d5</td>\n",
              "      <td>44f683a84163b3523afe57c2e008bc8c</td>\n",
              "      <td>b8c37e33defde51cf91e1e03e51657da</td>\n",
              "      <td>2</td>\n",
              "      <td>6</td>\n",
              "      <td>1</td>\n",
              "      <td>1</td>\n",
              "      <td>1</td>\n",
              "      <td>1</td>\n",
              "      <td>0</td>\n",
              "    </tr>\n",
              "    <tr>\n",
              "      <th>2</th>\n",
              "      <td>20191017</td>\n",
              "      <td>d2ac32e14d651b9ed03f26f845a11597</td>\n",
              "      <td>16b4bff70d409ddb77c8107a528cf94b</td>\n",
              "      <td>7215ee9c7d9dc229d2921a40e899ec5f</td>\n",
              "      <td>0.0</td>\n",
              "      <td>644474c3d41185fa4c4f427095954f06</td>\n",
              "      <td>f0478c7f392532b5b9843e144a31cb78</td>\n",
              "      <td>14:35:26</td>\n",
              "      <td>8</td>\n",
              "      <td>7e35e74e610188414ad24235dd787c78</td>\n",
              "      <td>...</td>\n",
              "      <td>e4da3b7fbbce2345d7772b0674a318d5</td>\n",
              "      <td>44f683a84163b3523afe57c2e008bc8c</td>\n",
              "      <td>b8c37e33defde51cf91e1e03e51657da</td>\n",
              "      <td>2</td>\n",
              "      <td>6</td>\n",
              "      <td>1</td>\n",
              "      <td>1</td>\n",
              "      <td>1</td>\n",
              "      <td>1</td>\n",
              "      <td>0</td>\n",
              "    </tr>\n",
              "  </tbody>\n",
              "</table>\n",
              "<p>3 rows × 24 columns</p>\n",
              "</div>\n",
              "      <button class=\"colab-df-convert\" onclick=\"convertToInteractive('df-920ae651-33c4-4dad-98b0-8718eb233301')\"\n",
              "              title=\"Convert this dataframe to an interactive table.\"\n",
              "              style=\"display:none;\">\n",
              "        \n",
              "  <svg xmlns=\"http://www.w3.org/2000/svg\" height=\"24px\"viewBox=\"0 0 24 24\"\n",
              "       width=\"24px\">\n",
              "    <path d=\"M0 0h24v24H0V0z\" fill=\"none\"/>\n",
              "    <path d=\"M18.56 5.44l.94 2.06.94-2.06 2.06-.94-2.06-.94-.94-2.06-.94 2.06-2.06.94zm-11 1L8.5 8.5l.94-2.06 2.06-.94-2.06-.94L8.5 2.5l-.94 2.06-2.06.94zm10 10l.94 2.06.94-2.06 2.06-.94-2.06-.94-.94-2.06-.94 2.06-2.06.94z\"/><path d=\"M17.41 7.96l-1.37-1.37c-.4-.4-.92-.59-1.43-.59-.52 0-1.04.2-1.43.59L10.3 9.45l-7.72 7.72c-.78.78-.78 2.05 0 2.83L4 21.41c.39.39.9.59 1.41.59.51 0 1.02-.2 1.41-.59l7.78-7.78 2.81-2.81c.8-.78.8-2.07 0-2.86zM5.41 20L4 18.59l7.72-7.72 1.47 1.35L5.41 20z\"/>\n",
              "  </svg>\n",
              "      </button>\n",
              "      \n",
              "  <style>\n",
              "    .colab-df-container {\n",
              "      display:flex;\n",
              "      flex-wrap:wrap;\n",
              "      gap: 12px;\n",
              "    }\n",
              "\n",
              "    .colab-df-convert {\n",
              "      background-color: #E8F0FE;\n",
              "      border: none;\n",
              "      border-radius: 50%;\n",
              "      cursor: pointer;\n",
              "      display: none;\n",
              "      fill: #1967D2;\n",
              "      height: 32px;\n",
              "      padding: 0 0 0 0;\n",
              "      width: 32px;\n",
              "    }\n",
              "\n",
              "    .colab-df-convert:hover {\n",
              "      background-color: #E2EBFA;\n",
              "      box-shadow: 0px 1px 2px rgba(60, 64, 67, 0.3), 0px 1px 3px 1px rgba(60, 64, 67, 0.15);\n",
              "      fill: #174EA6;\n",
              "    }\n",
              "\n",
              "    [theme=dark] .colab-df-convert {\n",
              "      background-color: #3B4455;\n",
              "      fill: #D2E3FC;\n",
              "    }\n",
              "\n",
              "    [theme=dark] .colab-df-convert:hover {\n",
              "      background-color: #434B5C;\n",
              "      box-shadow: 0px 1px 3px 1px rgba(0, 0, 0, 0.15);\n",
              "      filter: drop-shadow(0px 1px 2px rgba(0, 0, 0, 0.3));\n",
              "      fill: #FFFFFF;\n",
              "    }\n",
              "  </style>\n",
              "\n",
              "      <script>\n",
              "        const buttonEl =\n",
              "          document.querySelector('#df-920ae651-33c4-4dad-98b0-8718eb233301 button.colab-df-convert');\n",
              "        buttonEl.style.display =\n",
              "          google.colab.kernel.accessAllowed ? 'block' : 'none';\n",
              "\n",
              "        async function convertToInteractive(key) {\n",
              "          const element = document.querySelector('#df-920ae651-33c4-4dad-98b0-8718eb233301');\n",
              "          const dataTable =\n",
              "            await google.colab.kernel.invokeFunction('convertToInteractive',\n",
              "                                                     [key], {});\n",
              "          if (!dataTable) return;\n",
              "\n",
              "          const docLinkHtml = 'Like what you see? Visit the ' +\n",
              "            '<a target=\"_blank\" href=https://colab.research.google.com/notebooks/data_table.ipynb>data table notebook</a>'\n",
              "            + ' to learn more about interactive tables.';\n",
              "          element.innerHTML = '';\n",
              "          dataTable['output_type'] = 'display_data';\n",
              "          await google.colab.output.renderOutput(dataTable, element);\n",
              "          const docLink = document.createElement('div');\n",
              "          docLink.innerHTML = docLinkHtml;\n",
              "          element.appendChild(docLink);\n",
              "        }\n",
              "      </script>\n",
              "    </div>\n",
              "  </div>\n",
              "  "
            ]
          },
          "metadata": {},
          "execution_count": 10
        }
      ]
    },
    {
      "cell_type": "code",
      "source": [
        "from catboost import CatBoostClassifier, Pool\n",
        "\n",
        "pool_train = Pool(\n",
        "    data=features_train,\n",
        "    label=target_train,\n",
        "    cat_features=cat_features\n",
        ")\n",
        "pool_eval = Pool(\n",
        "    data=features_eval,\n",
        "    label=target_eval,\n",
        "    cat_features=cat_features\n",
        ")"
      ],
      "metadata": {
        "id": "wLILN0srvaZs"
      },
      "execution_count": null,
      "outputs": []
    },
    {
      "cell_type": "code",
      "source": [
        "from catboost import CatBoostRegressor\n",
        "import numpy as np\n",
        "class WAPE(object):\n",
        "  def calc_ders_range(self, approxes, targets, weights):\n",
        "    y_true, y_pred = targets, approxes\n",
        "    return np.sum(np.abs(y_true-y_pred))/np.sum(np.abs(y_true))\n",
        "\n",
        "model = CatBoostRegressor(task_type=\"GPU\", iterations=10000)\n",
        "\n",
        "model.fit(pool_train,\n",
        "    eval_set=pool_eval, verbose=500)\n"
      ],
      "metadata": {
        "colab": {
          "base_uri": "https://localhost:8080/"
        },
        "id": "7cgyjNVix8_t",
        "outputId": "eda33aaa-3aa5-43cf-e792-14edb846303e"
      },
      "execution_count": null,
      "outputs": [
        {
          "output_type": "stream",
          "name": "stdout",
          "text": [
            "Learning rate set to 0.061109\n",
            "0:\tlearn: 1.7203524\ttest: 1.5679446\tbest: 1.5679446 (0)\ttotal: 150ms\tremaining: 24m 57s\n",
            "500:\tlearn: 1.4802726\ttest: 1.3495868\tbest: 1.3495704 (498)\ttotal: 31s\tremaining: 9m 48s\n",
            "1000:\tlearn: 1.4376922\ttest: 1.3325945\tbest: 1.3325945 (1000)\ttotal: 56.2s\tremaining: 8m 24s\n",
            "1500:\tlearn: 1.3938685\ttest: 1.3187286\tbest: 1.3187286 (1500)\ttotal: 1m 21s\tremaining: 7m 40s\n",
            "2000:\tlearn: 1.3673895\ttest: 1.3112430\tbest: 1.3112430 (2000)\ttotal: 1m 46s\tremaining: 7m 7s\n",
            "2500:\tlearn: 1.3453493\ttest: 1.3062252\tbest: 1.3062252 (2500)\ttotal: 2m 12s\tremaining: 6m 38s\n",
            "3000:\tlearn: 1.3256624\ttest: 1.3019181\tbest: 1.3019135 (2998)\ttotal: 2m 40s\tremaining: 6m 15s\n",
            "3500:\tlearn: 1.3079943\ttest: 1.2986715\tbest: 1.2986715 (3500)\ttotal: 3m 6s\tremaining: 5m 46s\n",
            "4000:\tlearn: 1.2904404\ttest: 1.2957853\tbest: 1.2957105 (3981)\ttotal: 3m 32s\tremaining: 5m 18s\n",
            "4500:\tlearn: 1.2768844\ttest: 1.2935917\tbest: 1.2933844 (4465)\ttotal: 3m 57s\tremaining: 4m 50s\n",
            "5000:\tlearn: 1.2634661\ttest: 1.2925223\tbest: 1.2924645 (4984)\ttotal: 4m 23s\tremaining: 4m 23s\n",
            "5500:\tlearn: 1.2518704\ttest: 1.2912674\tbest: 1.2912674 (5500)\ttotal: 4m 49s\tremaining: 3m 56s\n",
            "6000:\tlearn: 1.2407347\ttest: 1.2900966\tbest: 1.2900913 (5999)\ttotal: 5m 16s\tremaining: 3m 31s\n",
            "6500:\tlearn: 1.2296554\ttest: 1.2886883\tbest: 1.2886253 (6482)\ttotal: 5m 42s\tremaining: 3m 4s\n",
            "7000:\tlearn: 1.2189306\ttest: 1.2874446\tbest: 1.2874446 (7000)\ttotal: 6m 8s\tremaining: 2m 37s\n",
            "7500:\tlearn: 1.2088552\ttest: 1.2861945\tbest: 1.2861779 (7478)\ttotal: 6m 34s\tremaining: 2m 11s\n",
            "8000:\tlearn: 1.1998860\ttest: 1.2852654\tbest: 1.2852580 (7995)\ttotal: 7m\tremaining: 1m 45s\n",
            "8500:\tlearn: 1.1906821\ttest: 1.2841284\tbest: 1.2841284 (8500)\ttotal: 7m 26s\tremaining: 1m 18s\n",
            "9000:\tlearn: 1.1821536\ttest: 1.2832339\tbest: 1.2831807 (8937)\ttotal: 7m 52s\tremaining: 52.5s\n",
            "9500:\tlearn: 1.1735088\ttest: 1.2822922\tbest: 1.2822922 (9500)\ttotal: 8m 20s\tremaining: 26.3s\n",
            "9999:\tlearn: 1.1644575\ttest: 1.2814107\tbest: 1.2813869 (9984)\ttotal: 8m 46s\tremaining: 0us\n",
            "bestTest = 1.281386944\n",
            "bestIteration = 9984\n",
            "Shrink model to first 9985 iterations.\n"
          ]
        },
        {
          "output_type": "execute_result",
          "data": {
            "text/plain": [
              "<catboost.core.CatBoostRegressor at 0x7fe5977c7450>"
            ]
          },
          "metadata": {},
          "execution_count": 12
        }
      ]
    },
    {
      "cell_type": "code",
      "source": [
        "model.get_feature_importance(prettified=True).plot(x='Feature Id', y='Importances', kind='barh', figsize=(20, 10))"
      ],
      "metadata": {
        "colab": {
          "base_uri": "https://localhost:8080/",
          "height": 550
        },
        "id": "Yy_cGBFj4H-H",
        "outputId": "511e648c-f6e1-42f1-847d-03acb1f8880c"
      },
      "execution_count": null,
      "outputs": [
        {
          "output_type": "execute_result",
          "data": {
            "text/plain": [
              "<matplotlib.axes._subplots.AxesSubplot at 0x7fe573b89e50>"
            ]
          },
          "metadata": {},
          "execution_count": 19
        },
        {
          "output_type": "display_data",
          "data": {
            "text/plain": [
              "<Figure size 1440x720 with 1 Axes>"
            ],
            "image/png": "[encoded data removed]"
          },
          "metadata": {
            "needs_background": "light"
          }
        }
      ]
    },
    {
      "cell_type": "code",
      "source": [
        "!pip install shap"
      ],
      "metadata": {
        "colab": {
          "base_uri": "https://localhost:8080/"
        },
        "id": "MuQxi2zl424M",
        "outputId": "bed17cc4-fa2e-433f-b5c9-c0048e076f72"
      },
      "execution_count": null,
      "outputs": [
        {
          "output_type": "stream",
          "name": "stdout",
          "text": [
            "Looking in indexes: https://pypi.org/simple, https://us-python.pkg.dev/colab-wheels/public/simple/\n",
            "Collecting shap\n",
            "  Downloading shap-0.40.0-cp37-cp37m-manylinux2010_x86_64.whl (564 kB)\n",
            "\u001b[K     |████████████████████████████████| 564 kB 11.2 MB/s \n",
            "\u001b[?25hRequirement already satisfied: scikit-learn in /usr/local/lib/python3.7/dist-packages (from shap) (1.0.2)\n",
            "Requirement already satisfied: scipy in /usr/local/lib/python3.7/dist-packages (from shap) (1.4.1)\n",
            "Requirement already satisfied: tqdm>4.25.0 in /usr/local/lib/python3.7/dist-packages (from shap) (4.64.0)\n",
            "Requirement already satisfied: pandas in /usr/local/lib/python3.7/dist-packages (from shap) (1.3.5)\n",
            "Collecting slicer==0.0.7\n",
            "  Downloading slicer-0.0.7-py3-none-any.whl (14 kB)\n",
            "Requirement already satisfied: numpy in /usr/local/lib/python3.7/dist-packages (from shap) (1.21.6)\n",
            "Requirement already satisfied: cloudpickle in /usr/local/lib/python3.7/dist-packages (from shap) (1.3.0)\n",
            "Requirement already satisfied: packaging>20.9 in /usr/local/lib/python3.7/dist-packages (from shap) (21.3)\n",
            "Requirement already satisfied: numba in /usr/local/lib/python3.7/dist-packages (from shap) (0.51.2)\n",
            "Requirement already satisfied: pyparsing!=3.0.5,>=2.0.2 in /usr/local/lib/python3.7/dist-packages (from packaging>20.9->shap) (3.0.9)\n",
            "Requirement already satisfied: llvmlite<0.35,>=0.34.0.dev0 in /usr/local/lib/python3.7/dist-packages (from numba->shap) (0.34.0)\n",
            "Requirement already satisfied: setuptools in /usr/local/lib/python3.7/dist-packages (from numba->shap) (57.4.0)\n",
            "Requirement already satisfied: python-dateutil>=2.7.3 in /usr/local/lib/python3.7/dist-packages (from pandas->shap) (2.8.2)\n",
            "Requirement already satisfied: pytz>=2017.3 in /usr/local/lib/python3.7/dist-packages (from pandas->shap) (2022.1)\n",
            "Requirement already satisfied: six>=1.5 in /usr/local/lib/python3.7/dist-packages (from python-dateutil>=2.7.3->pandas->shap) (1.15.0)\n",
            "Requirement already satisfied: threadpoolctl>=2.0.0 in /usr/local/lib/python3.7/dist-packages (from scikit-learn->shap) (3.1.0)\n",
            "Requirement already satisfied: joblib>=0.11 in /usr/local/lib/python3.7/dist-packages (from scikit-learn->shap) (1.1.0)\n",
            "Installing collected packages: slicer, shap\n",
            "Successfully installed shap-0.40.0 slicer-0.0.7\n"
          ]
        }
      ]
    },
    {
      "cell_type": "code",
      "source": [
        "import shap\n",
        "\n",
        "explainer = shap.TreeExplainer(model)"
      ],
      "metadata": {
        "id": "RlturQ4f5AsS"
      },
      "execution_count": null,
      "outputs": []
    },
    {
      "cell_type": "code",
      "source": [
        "shap_values = explainer(features_train)"
      ],
      "metadata": {
        "id": "7MYH8MjR5LZx"
      },
      "execution_count": null,
      "outputs": []
    },
    {
      "cell_type": "markdown",
      "source": [
        "Просто хотел показать, что знаю о такой возможности. Сделать то же самое в исходном датасете уже не успеваю"
      ],
      "metadata": {
        "id": "XdmJeDa8m6qO"
      }
    },
    {
      "cell_type": "code",
      "source": [
        "shap.plots.beeswarm(shap_values, max_display=20)"
      ],
      "metadata": {
        "colab": {
          "base_uri": "https://localhost:8080/",
          "height": 585
        },
        "id": "NuDvacZ25D42",
        "outputId": "4efb4cb1-8b77-472d-b049-38b5394d0de3"
      },
      "execution_count": null,
      "outputs": [
        {
          "output_type": "display_data",
          "data": {
            "text/plain": [
              "<Figure size 576x684 with 2 Axes>"
            ],
            "image/png": "[encoded data removed]"
          },
          "metadata": {
            "needs_background": "light"
          }
        }
      ]
    }
  ]
}