{
  "nbformat": 4,
  "nbformat_minor": 0,
  "metadata": {
    "colab": {
      "name": "FTT.ipynb",
      "provenance": []
    },
    "kernelspec": {
      "name": "python3",
      "display_name": "Python 3"
    },
    "language_info": {
      "name": "python"
    },
    "accelerator": "GPU",
    "gpuClass": "standard"
  },
  "cells": [
    {
      "cell_type": "code",
      "source": [
        "!pip install rtdl\n",
        "!pip install libzero==0.0.4"
      ],
      "metadata": {
        "colab": {
          "base_uri": "https://localhost:8080/"
        },
        "id": "FPxUAotQ-EEj",
        "outputId": "c4885682-7158-4374-dd09-bccd2e64aafb"
      },
      "execution_count": 1,
      "outputs": [
        {
          "output_type": "stream",
          "name": "stdout",
          "text": [
            "Looking in indexes: https://pypi.org/simple, https://us-python.pkg.dev/colab-wheels/public/simple/\n",
            "Collecting rtdl\n",
            "  Downloading rtdl-0.0.13-py3-none-any.whl (23 kB)\n",
            "Requirement already satisfied: numpy<2,>=1.18 in /usr/local/lib/python3.7/dist-packages (from rtdl) (1.21.6)\n",
            "Requirement already satisfied: torch<2,>=1.7 in /usr/local/lib/python3.7/dist-packages (from rtdl) (1.11.0+cu113)\n",
            "Requirement already satisfied: typing-extensions in /usr/local/lib/python3.7/dist-packages (from torch<2,>=1.7->rtdl) (4.2.0)\n",
            "Installing collected packages: rtdl\n",
            "Successfully installed rtdl-0.0.13\n",
            "Looking in indexes: https://pypi.org/simple, https://us-python.pkg.dev/colab-wheels/public/simple/\n",
            "Collecting libzero==0.0.4\n",
            "  Downloading libzero-0.0.4-py3-none-any.whl (26 kB)\n",
            "Requirement already satisfied: numpy<2,>=1.17 in /usr/local/lib/python3.7/dist-packages (from libzero==0.0.4) (1.21.6)\n",
            "Collecting pynvml<9,>=8.0\n",
            "  Downloading pynvml-8.0.4-py3-none-any.whl (36 kB)\n",
            "Requirement already satisfied: tqdm<5,>=4.0 in /usr/local/lib/python3.7/dist-packages (from libzero==0.0.4) (4.64.0)\n",
            "Requirement already satisfied: torch<2,>=1.6 in /usr/local/lib/python3.7/dist-packages (from libzero==0.0.4) (1.11.0+cu113)\n",
            "Requirement already satisfied: typing-extensions in /usr/local/lib/python3.7/dist-packages (from torch<2,>=1.6->libzero==0.0.4) (4.2.0)\n",
            "Installing collected packages: pynvml, libzero\n",
            "Successfully installed libzero-0.0.4 pynvml-8.0.4\n"
          ]
        }
      ]
    },
    {
      "cell_type": "code",
      "source": [
        "from google.colab import drive\n",
        "\n",
        "drive.mount('/content/drive')"
      ],
      "metadata": {
        "colab": {
          "base_uri": "https://localhost:8080/"
        },
        "id": "HhxlkszqCu_q",
        "outputId": "cffa9873-ceed-4b83-b543-8984bec1dc51"
      },
      "execution_count": 2,
      "outputs": [
        {
          "output_type": "stream",
          "name": "stdout",
          "text": [
            "Mounted at /content/drive\n"
          ]
        }
      ]
    },
    {
      "cell_type": "code",
      "source": [
        "!unzip /content/drive/MyDrive/output-2.zip "
      ],
      "metadata": {
        "colab": {
          "base_uri": "https://localhost:8080/"
        },
        "id": "7Wyqj20DCw1_",
        "outputId": "a21fcfa4-9c23-4ff3-9958-316ad9192454"
      },
      "execution_count": 3,
      "outputs": [
        {
          "output_type": "stream",
          "name": "stdout",
          "text": [
            "Archive:  /content/drive/MyDrive/output-2.zip\n",
            "   creating: data/\n",
            "   creating: data/lenta_evaluating/\n",
            "  inflating: data/lenta_evaluating/C_eval.npy  \n",
            "  inflating: data/lenta_evaluating/N_eval.npy  \n",
            "   creating: data/lenta_training/\n",
            "  inflating: data/lenta_training/y_train.npy  \n",
            "  inflating: data/lenta_training/N_test.npy  \n",
            "  inflating: data/lenta_training/C_train.npy  \n",
            "  inflating: data/lenta_training/y_test.npy  \n",
            "  inflating: data/lenta_training/y_val.npy  \n",
            "  inflating: data/lenta_training/C_test.npy  \n",
            "  inflating: data/lenta_training/N_train.npy  \n",
            "  inflating: data/lenta_training/N_val.npy  \n",
            "  inflating: data/lenta_training/C_val.npy  \n",
            "   creating: data/lenta/\n",
            "  inflating: data/lenta/merged_train.csv  \n"
          ]
        }
      ]
    },
    {
      "cell_type": "code",
      "source": [
        "from typing import Any, Dict\n",
        "\n",
        "import numpy as np\n",
        "import rtdl\n",
        "import scipy.special\n",
        "import sklearn.metrics\n",
        "import sklearn.model_selection\n",
        "import sklearn.preprocessing\n",
        "import torch\n",
        "import torch.nn as nn\n",
        "import torch.nn.functional as F\n",
        "import zero"
      ],
      "metadata": {
        "id": "0Zojjewo_M24"
      },
      "execution_count": 4,
      "outputs": []
    },
    {
      "cell_type": "code",
      "source": [
        "device = 'cuda' if torch.cuda.is_available() else 'cpu'\n",
        "zero.improve_reproducibility(seed=123456)"
      ],
      "metadata": {
        "colab": {
          "base_uri": "https://localhost:8080/"
        },
        "id": "I4J5GPyI_Z9A",
        "outputId": "d3670921-6588-42c0-b5e1-2719fd75f1da"
      },
      "execution_count": 5,
      "outputs": [
        {
          "output_type": "execute_result",
          "data": {
            "text/plain": [
              "123456"
            ]
          },
          "metadata": {},
          "execution_count": 5
        }
      ]
    },
    {
      "cell_type": "code",
      "source": [
        "task_type = 'regression'"
      ],
      "metadata": {
        "id": "kqPMM9UmDYup"
      },
      "execution_count": 6,
      "outputs": []
    },
    {
      "cell_type": "code",
      "source": [
        "!pip install category_encoders"
      ],
      "metadata": {
        "colab": {
          "base_uri": "https://localhost:8080/"
        },
        "id": "O2yo-brXIA4h",
        "outputId": "c3d99176-2c30-465d-c281-51740f89f292"
      },
      "execution_count": 32,
      "outputs": [
        {
          "output_type": "stream",
          "name": "stdout",
          "text": [
            "Looking in indexes: https://pypi.org/simple, https://us-python.pkg.dev/colab-wheels/public/simple/\n",
            "Collecting category_encoders\n",
            "  Downloading category_encoders-2.5.0-py2.py3-none-any.whl (69 kB)\n",
            "\u001b[K     |████████████████████████████████| 69 kB 3.6 MB/s \n",
            "\u001b[?25hRequirement already satisfied: statsmodels>=0.9.0 in /usr/local/lib/python3.7/dist-packages (from category_encoders) (0.10.2)\n",
            "Requirement already satisfied: numpy>=1.14.0 in /usr/local/lib/python3.7/dist-packages (from category_encoders) (1.21.6)\n",
            "Requirement already satisfied: scikit-learn>=0.20.0 in /usr/local/lib/python3.7/dist-packages (from category_encoders) (1.0.2)\n",
            "Requirement already satisfied: scipy>=1.0.0 in /usr/local/lib/python3.7/dist-packages (from category_encoders) (1.4.1)\n",
            "Requirement already satisfied: pandas>=1.0.5 in /usr/local/lib/python3.7/dist-packages (from category_encoders) (1.3.5)\n",
            "Requirement already satisfied: patsy>=0.5.1 in /usr/local/lib/python3.7/dist-packages (from category_encoders) (0.5.2)\n",
            "Requirement already satisfied: python-dateutil>=2.7.3 in /usr/local/lib/python3.7/dist-packages (from pandas>=1.0.5->category_encoders) (2.8.2)\n",
            "Requirement already satisfied: pytz>=2017.3 in /usr/local/lib/python3.7/dist-packages (from pandas>=1.0.5->category_encoders) (2022.1)\n",
            "Requirement already satisfied: six in /usr/local/lib/python3.7/dist-packages (from patsy>=0.5.1->category_encoders) (1.15.0)\n",
            "Requirement already satisfied: joblib>=0.11 in /usr/local/lib/python3.7/dist-packages (from scikit-learn>=0.20.0->category_encoders) (1.1.0)\n",
            "Requirement already satisfied: threadpoolctl>=2.0.0 in /usr/local/lib/python3.7/dist-packages (from scikit-learn>=0.20.0->category_encoders) (3.1.0)\n",
            "Installing collected packages: category-encoders\n",
            "Successfully installed category-encoders-2.5.0\n"
          ]
        }
      ]
    },
    {
      "cell_type": "code",
      "source": [
        "from category_encoders import CatBoostEncoder"
      ],
      "metadata": {
        "id": "9CxU6rjeIEtD"
      },
      "execution_count": 33,
      "outputs": []
    },
    {
      "cell_type": "code",
      "source": [
        "path_to_dataset = '/content/data/lenta_training'\n",
        "C_train = np.load(path_to_dataset + '/C_train.npy', allow_pickle=True)\n",
        "N_train = np.load(path_to_dataset + '/N_train.npy').astype('float32')\n",
        "y_train = np.load(path_to_dataset + '/y_train.npy').astype('float32')\n",
        "cbe = CatBoostEncoder()\n",
        "C_train = cbe.fit_transform(C_train, y_train).values.astype('float32')\n",
        "C_val = cbe.transform(np.load(path_to_dataset + '/C_val.npy', allow_pickle=True)).values.astype('float32')\n",
        "N_val = np.load(path_to_dataset + '/N_val.npy').astype('float32')\n",
        "y_val = np.load(path_to_dataset + '/y_val.npy').astype('float32')\n",
        "C_test = cbe.transform(np.load(path_to_dataset + '/C_test.npy', allow_pickle=True)).values.astype('float32')\n",
        "N_test = np.load(path_to_dataset + '/N_test.npy').astype('float32')\n",
        "y_test = np.load(path_to_dataset + '/y_test.npy').astype('float32')"
      ],
      "metadata": {
        "id": "QWeflRGTDiky"
      },
      "execution_count": 34,
      "outputs": []
    },
    {
      "cell_type": "code",
      "source": [
        "X_train, X_val, X_test = [np.concatenate([C, N], axis=1) for C, N in zip([C_train, C_val, C_test], [N_train, N_val, N_test])]"
      ],
      "metadata": {
        "id": "ufvDKJk6IfXi"
      },
      "execution_count": 35,
      "outputs": []
    },
    {
      "cell_type": "code",
      "source": [
        "from sklearn.impute import SimpleImputer\n",
        "imp = SimpleImputer()\n",
        "X = {}\n",
        "y = {}\n",
        "X['train'],  X['val'], X['test'], y['train'], y['val'], y['test'] = X_train, X_val, X_test, y_train, y_val, y_test\n",
        "preprocess = sklearn.preprocessing.StandardScaler().fit(X['train'])\n",
        "impute = imp.fit(X['train'])\n",
        "\n",
        "X = {\n",
        "    k: impute.fit_transform(v)\n",
        "    for k, v in X.items()\n",
        "}\n",
        "X = {\n",
        "    k: torch.tensor(preprocess.fit_transform(v), device=device)\n",
        "    for k, v in X.items()\n",
        "}\n",
        "y = {k: torch.tensor(v, device=device) for k, v in y.items()}\n",
        "\n",
        "# !!! CRUCIAL for neural networks when solving regression problems !!!\n",
        "if task_type == 'regression':\n",
        "    y_mean = y['train'].mean().item()\n",
        "    y_std = y['train'].std().item()\n",
        "    y = {k: (v - y_mean) / y_std for k, v in y.items()}\n",
        "else:\n",
        "    y_std = y_mean = None\n",
        "\n",
        "if task_type != 'multiclass':\n",
        "    y = {k: v.float() for k, v in y.items()}"
      ],
      "metadata": {
        "id": "diO7M0kq_F5h"
      },
      "execution_count": 66,
      "outputs": []
    },
    {
      "cell_type": "markdown",
      "source": [
        "Выбрал модель FT-Transformer, так как при должном обучении она выучивается на табличных данных сравнимо с CatBoost: https://arxiv.org/abs/2106.11959\n",
        "\n",
        "Еще один плюс – как PyTorch модель она дифференцируема, соответственно, поэтому я и отказался от использования CatBoost (который учить гораздо комфортнее), чтобы не заниматься black-box оптимизацией (что гораздо более сложная задача, на мой взгляд), а оптимизироваться по градиенту (а еще можно достаточно разумно включить в модель ценообразования информацию о других переменных, которые мы не можем менять)."
      ],
      "metadata": {
        "id": "eeC2Rr8b0TbK"
      }
    },
    {
      "cell_type": "code",
      "source": [
        "d_out =  1\n",
        "model = rtdl.FTTransformer.make_default(\n",
        "    n_num_features=X_train.shape[1],\n",
        "    cat_cardinalities=None,\n",
        "    last_layer_query_idx=[-1],  \n",
        "    d_out=d_out,\n",
        ")\n",
        "\n",
        "lr = 1e-4\n",
        "weight_decay = 0.0\n",
        "\n",
        "model.to(device)\n",
        "optimizer = (\n",
        "    model.make_default_optimizer()\n",
        "    if isinstance(model, rtdl.FTTransformer)\n",
        "    else torch.optim.AdamW(model.parameters(), lr=lr, weight_decay=weight_decay)\n",
        ")\n",
        "loss_fn = (\n",
        "    F.binary_cross_entropy_with_logits\n",
        "    if task_type == 'binclass'\n",
        "    else F.cross_entropy\n",
        "    if task_type == 'multiclass'\n",
        "    else F.mse_loss\n",
        ")"
      ],
      "metadata": {
        "id": "M90t8GLc_fpn"
      },
      "execution_count": 67,
      "outputs": []
    },
    {
      "cell_type": "code",
      "source": [
        "def apply_model(x_num, x_cat=None):\n",
        "    if isinstance(model, rtdl.FTTransformer):\n",
        "        return model(x_num, x_cat)\n",
        "    elif isinstance(model, (rtdl.MLP, rtdl.ResNet)):\n",
        "        assert x_cat is None\n",
        "        return model(x_num)\n",
        "    else:\n",
        "        raise NotImplementedError(\n",
        "            f'Looks like you are using a custom model: {type(model)}.'\n",
        "            ' Then you have to implement this branch first.'\n",
        "        )\n",
        "\n",
        "\n",
        "@torch.no_grad()\n",
        "def evaluate(part):\n",
        "    model.eval()\n",
        "    prediction = []\n",
        "    for batch in zero.iter_batches(X[part], 1024):\n",
        "        prediction.append(apply_model(batch))\n",
        "    prediction = torch.relu(torch.cat(prediction)).squeeze(1).cpu().numpy()\n",
        "    target = y[part].cpu().numpy()\n",
        "    if task_type == 'binclass':\n",
        "        prediction = np.round(scipy.special.expit(prediction))\n",
        "        score = sklearn.metrics.accuracy_score(target, prediction)\n",
        "    elif task_type == 'multiclass':\n",
        "        prediction = prediction.argmax(1)\n",
        "        score = sklearn.metrics.accuracy_score(target, prediction)\n",
        "    else:\n",
        "        assert task_type == 'regression'\n",
        "        score = sklearn.metrics.mean_squared_error(target, prediction) ** 0.5 * y_std\n",
        "    return score\n",
        "\n",
        "batch_size = 256\n",
        "train_loader = zero.data.IndexLoader(len(X['train']), batch_size, device=device)\n",
        "\n",
        "\n",
        "progress = zero.ProgressTracker(patience=100)\n",
        "\n",
        "print(f'Test score before training: {evaluate(\"test\"):.4f}')"
      ],
      "metadata": {
        "colab": {
          "base_uri": "https://localhost:8080/"
        },
        "id": "wS1QqOdzABRV",
        "outputId": "944ccc66-664a-41d0-d4f3-05e8b233054d"
      },
      "execution_count": 71,
      "outputs": [
        {
          "output_type": "stream",
          "name": "stdout",
          "text": [
            "Test score before training: 2.6789\n"
          ]
        }
      ]
    },
    {
      "cell_type": "code",
      "source": [
        "n_epochs = 5\n",
        "report_frequency = len(X['train']) // batch_size // 5\n",
        "for epoch in range(1, n_epochs + 1):\n",
        "    for iteration, batch_idx in enumerate(train_loader):\n",
        "        model.train()\n",
        "        optimizer.zero_grad()\n",
        "        x_batch = X['train'][batch_idx]\n",
        "        y_batch = y['train'][batch_idx]\n",
        "        loss = loss_fn(apply_model(x_batch).squeeze(1), y_batch)\n",
        "        loss.backward()\n",
        "        optimizer.step()\n",
        "        if iteration % report_frequency == 0:\n",
        "            print(f'(epoch) {epoch} (batch) {iteration} (loss) {loss.item():.4f}')\n",
        "\n",
        "    val_score = evaluate('val')\n",
        "    test_score = evaluate('test')\n",
        "    print(f'Epoch {epoch:03d} | Validation score: {val_score:.4f} | Test score: {test_score:.4f}', end='')\n",
        "    progress.update((-1 if task_type == 'regression' else 1) * val_score)\n",
        "    if progress.success:\n",
        "        print(' <<< BEST VALIDATION EPOCH', end='')\n",
        "    print()\n",
        "    if progress.fail:\n",
        "        break"
      ],
      "metadata": {
        "colab": {
          "base_uri": "https://localhost:8080/"
        },
        "id": "-BARsPNtMTSa",
        "outputId": "1db70bc9-c852-4a7e-9af9-d2405f06b7de"
      },
      "execution_count": 76,
      "outputs": [
        {
          "output_type": "stream",
          "name": "stdout",
          "text": [
            "(epoch) 1 (batch) 0 (loss) 0.4695\n",
            "(epoch) 1 (batch) 1922 (loss) 0.0915\n",
            "(epoch) 1 (batch) 3844 (loss) 0.1886\n",
            "(epoch) 1 (batch) 5766 (loss) 0.2865\n",
            "(epoch) 1 (batch) 7688 (loss) 0.1339\n",
            "(epoch) 1 (batch) 9610 (loss) 0.1435\n",
            "Epoch 001 | Validation score: 2.2283 | Test score: 2.4936 <<< BEST VALIDATION EPOCH\n",
            "(epoch) 2 (batch) 0 (loss) 0.8139\n",
            "(epoch) 2 (batch) 1922 (loss) 0.0891\n",
            "(epoch) 2 (batch) 3844 (loss) 0.1919\n",
            "(epoch) 2 (batch) 5766 (loss) 0.2828\n",
            "(epoch) 2 (batch) 7688 (loss) 0.1318\n",
            "(epoch) 2 (batch) 9610 (loss) 0.1457\n",
            "Epoch 002 | Validation score: 2.2055 | Test score: 2.4659 <<< BEST VALIDATION EPOCH\n",
            "(epoch) 3 (batch) 0 (loss) 0.2952\n",
            "(epoch) 3 (batch) 1922 (loss) 0.0843\n",
            "(epoch) 3 (batch) 3844 (loss) 0.1853\n",
            "(epoch) 3 (batch) 5766 (loss) 0.2842\n",
            "(epoch) 3 (batch) 7688 (loss) 0.1348\n",
            "(epoch) 3 (batch) 9610 (loss) 0.1471\n",
            "Epoch 003 | Validation score: 2.1886 | Test score: 2.4430 <<< BEST VALIDATION EPOCH\n",
            "(epoch) 4 (batch) 0 (loss) 0.3099\n",
            "(epoch) 4 (batch) 1922 (loss) 0.0769\n",
            "(epoch) 4 (batch) 3844 (loss) 0.1850\n",
            "(epoch) 4 (batch) 5766 (loss) 0.2848\n",
            "(epoch) 4 (batch) 7688 (loss) 0.1331\n",
            "(epoch) 4 (batch) 9610 (loss) 0.1462\n",
            "Epoch 004 | Validation score: 2.1699 | Test score: 2.4106 <<< BEST VALIDATION EPOCH\n",
            "(epoch) 5 (batch) 0 (loss) 0.2791\n",
            "(epoch) 5 (batch) 1922 (loss) 0.0829\n",
            "(epoch) 5 (batch) 3844 (loss) 0.1874\n",
            "(epoch) 5 (batch) 5766 (loss) 0.2839\n",
            "(epoch) 5 (batch) 7688 (loss) 0.1315\n",
            "(epoch) 5 (batch) 9610 (loss) 0.1437\n",
            "Epoch 005 | Validation score: 2.1549 | Test score: 2.3867 <<< BEST VALIDATION EPOCH\n"
          ]
        }
      ]
    },
    {
      "cell_type": "code",
      "source": [
        "def wape(y_true: np.array, y_pred: np.array):\n",
        "  return np.sum(np.abs(y_true-y_pred))/np.sum(np.abs(y_true))\n",
        "\n",
        "@torch.no_grad()\n",
        "def evaluate_wape(part):\n",
        "    model.eval()\n",
        "    prediction = []\n",
        "    for batch in zero.iter_batches(X[part], 1024):\n",
        "        prediction.append(apply_model(batch))\n",
        "    prediction = torch.relu(torch.cat(prediction)).squeeze(1).cpu().numpy()\n",
        "    target = y[part].cpu().numpy()\n",
        "    prediction = prediction * y_std + y_mean\n",
        "    target = target * y_std + y_mean\n",
        "    score = wape(target, prediction)\n",
        "    return score\n",
        "\n",
        "batch_size = 256\n",
        "progress = zero.ProgressTracker(patience=100)\n",
        "\n",
        "print(f'WAPE: {evaluate_wape(\"test\"):.4f}')"
      ],
      "metadata": {
        "colab": {
          "base_uri": "https://localhost:8080/"
        },
        "id": "2J1tYSRyQmXq",
        "outputId": "1650c649-780e-4fca-bb3c-b150f0068783"
      },
      "execution_count": 89,
      "outputs": [
        {
          "output_type": "stream",
          "name": "stdout",
          "text": [
            "WAPE: 0.4931\n"
          ]
        }
      ]
    },
    {
      "cell_type": "code",
      "source": [
        "path_to_eval = '/content/data/lenta_evaluating'\n",
        "C = cbe.transform(np.load(path_to_eval + '/C_eval.npy', allow_pickle=True)).values.astype('float32')\n",
        "N = np.load(path_to_eval + '/N_eval.npy').astype('float32')\n",
        "X_eval = np.concatenate([C, N], axis=1) \n",
        "X_eval = preprocess.transform(impute.transform(X_evel)).astype('float32')"
      ],
      "metadata": {
        "id": "tlptPL8zSJyU"
      },
      "execution_count": 80,
      "outputs": []
    },
    {
      "cell_type": "code",
      "source": [
        "!pip install shap"
      ],
      "metadata": {
        "id": "9ii1RRWPoFI7"
      },
      "execution_count": null,
      "outputs": []
    },
    {
      "cell_type": "code",
      "source": [
        "X_eval = torch.tensor(X_eval).to(device)"
      ],
      "metadata": {
        "id": "y35eHnJWTbOW"
      },
      "execution_count": 88,
      "outputs": []
    },
    {
      "cell_type": "code",
      "source": [
        "del C, N, C_train, N_train"
      ],
      "metadata": {
        "id": "uBFVzWkzVXyc"
      },
      "execution_count": 90,
      "outputs": []
    },
    {
      "cell_type": "code",
      "source": [
        "@torch.no_grad()\n",
        "def make_preds():\n",
        "    model.eval()\n",
        "    prediction = []\n",
        "    for iteration, batch_idx in enumerate(preds_loader):\n",
        "        x_batch = X_eval[batch_idx]\n",
        "        prediction.append(apply_model(x_batch))\n",
        "    prediction = torch.relu(torch.cat(prediction)).squeeze(1).cpu().numpy()\n",
        "    prediction = prediction * y_std + y_mean\n",
        "    return prediction, iteration\n",
        "preds_loader = zero.data.IndexLoader(len(X_eval), batch_size, device=device, shuffle=False)\n",
        "batch_size = 1024\n",
        "preds, batch_idx = make_preds()"
      ],
      "metadata": {
        "id": "7G-yHqZwUOlX"
      },
      "execution_count": 103,
      "outputs": []
    },
    {
      "cell_type": "code",
      "source": [
        "preds.shape"
      ],
      "metadata": {
        "colab": {
          "base_uri": "https://localhost:8080/"
        },
        "id": "t9Z5UDS3XovQ",
        "outputId": "4a7182f2-ec1d-42c7-fec2-6559a12ff308"
      },
      "execution_count": 105,
      "outputs": [
        {
          "output_type": "execute_result",
          "data": {
            "text/plain": [
              "(2666217,)"
            ]
          },
          "metadata": {},
          "execution_count": 105
        }
      ]
    },
    {
      "cell_type": "code",
      "source": [
        "np.save('preds2.npy', preds)"
      ],
      "metadata": {
        "id": "ZwOb5W3yV0X-"
      },
      "execution_count": 107,
      "outputs": []
    },
    {
      "cell_type": "code",
      "source": [
        "from torch import nn, optim\n",
        "\n",
        "from itertools import chain\n",
        "\n",
        "class PriceOptim(nn.Module):\n",
        "    def __init__(self, C_shape, N_shape, num_hidden, num_units):\n",
        "      super(PriceOptim, self).__init__()\n",
        "\n",
        "      self.C_shape, self.N_shape = C_shape, N_shape\n",
        "      self.num_hidden, self.num_units = num_hidden, num_units\n",
        "\n",
        "      self.mask = torch.zeros(self.C_shape[1] + self.N_shape[1]).to('cuda' if torch.cuda.is_available() else 'cpu').float()\n",
        "      \n",
        "      self.mask[15:18] = 1.\n",
        "\n",
        "      self.Linear = nn.Sequential(\n",
        "          nn.Linear(self.C_shape[1] + self.N_shape[1], self.num_units),\n",
        "          nn.ReLU(),\n",
        "          *list(chain.from_iterable([[nn.Linear(self.num_units, self.num_units),\n",
        "          nn.ReLU()] for i in range(self.num_hidden)])),\n",
        "          nn.Linear(self.num_units, 1),\n",
        "          nn.ReLU()\n",
        "      )\n",
        "\n",
        "    def forward(self, input):\n",
        "      embedding = self.Linear(input)\n",
        "      #да, немного странно одинаковую цену подавать, тк люди лучше реагируют на скидки, но для простоты моделирования\n",
        "      output = input * (1. - self.mask) + torch.tile(embedding, [1, self.mask.shape[0]])  * self.mask\n",
        "      return output"
      ],
      "metadata": {
        "id": "XGKKzcNZPofy"
      },
      "execution_count": 306,
      "outputs": []
    },
    {
      "cell_type": "code",
      "source": [
        "price_opt = PriceOptim((0, 13), (0, 12), 2, 25).to(device)"
      ],
      "metadata": {
        "id": "Dt9-xibMbdJn"
      },
      "execution_count": 326,
      "outputs": []
    },
    {
      "cell_type": "code",
      "source": [
        "optimizer = torch.optim.Adam(price_opt.parameters(), lr=1e-4)"
      ],
      "metadata": {
        "id": "Hofpgn_BcqOm"
      },
      "execution_count": 327,
      "outputs": []
    },
    {
      "cell_type": "code",
      "source": [
        "@torch.no_grad()\n",
        "def get_real_revenue():\n",
        "  num_sales_real = torch.relu(apply_model(x_batch).detach()) * y_std + y_mean\n",
        "  price_real = x_batch[:, 16:19]\n",
        "  rev_real = torch.sum(num_sales_real * price_real, axis=1).mean()\n",
        "  return rev_real\n",
        "\n",
        "def get_opt_revenue():\n",
        "   output = price_opt(x_batch)\n",
        "   mask = torch.zeros(output.shape[1]).to('cuda' if torch.cuda.is_available() else 'cpu').float()\n",
        "   mask[15:18] = 1.\n",
        "   num_sales_opt_model =( torch.relu(apply_model(output)) * y_std + y_mean)/3\n",
        "   price_opt_model = output * mask\n",
        "   rev_opt_model = torch.mean(torch.mean(torch.mean(num_sales_opt_model * price_opt_model, axis=1)))\n",
        "   return rev_opt_model\n",
        "\n"
      ],
      "metadata": {
        "id": "kbEpMP2eeLgM"
      },
      "execution_count": 328,
      "outputs": []
    },
    {
      "cell_type": "code",
      "source": [
        "n_epochs = 5\n",
        "revs_real, revs_opt = [], []\n",
        "\n",
        "report_frequency = len(X['test']) // batch_size // 5\n",
        "\n",
        "batch_size = 1024\n",
        "priceopt_loader = zero.data.IndexLoader(len(X_test), batch_size, device=device)\n",
        "for epoch in range(1, n_epochs + 1):\n",
        "    for iteration, batch_idx in enumerate(priceopt_loader):\n",
        "        price_opt.train()\n",
        "        optimizer.zero_grad()\n",
        "        x_batch = X['test'][batch_idx]\n",
        "        y_batch = y['test'][batch_idx]\n",
        "        rev_real = get_real_revenue()\n",
        "        rev_opt_model = get_opt_revenue()\n",
        "        loss = - rev_opt_model**2\n",
        "        loss.backward()\n",
        "        optimizer.step()\n",
        "        if iteration % report_frequency == 0:\n",
        "            print(f'(epoch) {epoch} (batch) {iteration} (loss) {rev_opt_model.item():.4f}')\n",
        "        revs_real.append(rev_real.detach().cpu().numpy())\n",
        "        revs_opt.append(rev_opt_model.detach().cpu().numpy())\n"
      ],
      "metadata": {
        "colab": {
          "base_uri": "https://localhost:8080/"
        },
        "id": "RXXffgnAc_dC",
        "outputId": "53dae880-87e6-4e16-fde7-9f247c5d752d"
      },
      "execution_count": 329,
      "outputs": [
        {
          "output_type": "stream",
          "name": "stdout",
          "text": [
            "(epoch) 1 (batch) 0 (loss) 0.0001\n",
            "(epoch) 1 (batch) 80 (loss) 0.0067\n",
            "(epoch) 1 (batch) 160 (loss) 0.0182\n",
            "(epoch) 1 (batch) 240 (loss) 0.0311\n",
            "(epoch) 1 (batch) 320 (loss) 0.0714\n",
            "(epoch) 1 (batch) 400 (loss) 0.1387\n",
            "(epoch) 2 (batch) 0 (loss) 0.1136\n",
            "(epoch) 2 (batch) 80 (loss) 0.2476\n",
            "(epoch) 2 (batch) 160 (loss) 0.3857\n",
            "(epoch) 2 (batch) 240 (loss) 0.4935\n",
            "(epoch) 2 (batch) 320 (loss) 0.9494\n",
            "(epoch) 2 (batch) 400 (loss) 1.3732\n",
            "(epoch) 3 (batch) 0 (loss) 1.1835\n",
            "(epoch) 3 (batch) 80 (loss) 1.8812\n",
            "(epoch) 3 (batch) 160 (loss) 2.6755\n",
            "(epoch) 3 (batch) 240 (loss) 3.0473\n",
            "(epoch) 3 (batch) 320 (loss) 6.1821\n",
            "(epoch) 3 (batch) 400 (loss) 9.8743\n",
            "(epoch) 4 (batch) 0 (loss) 8.7266\n",
            "(epoch) 4 (batch) 80 (loss) 15.8733\n",
            "(epoch) 4 (batch) 160 (loss) 31.0461\n",
            "(epoch) 4 (batch) 240 (loss) 43.9006\n",
            "(epoch) 4 (batch) 320 (loss) 157.4877\n",
            "(epoch) 4 (batch) 400 (loss) 253.7248\n",
            "(epoch) 5 (batch) 0 (loss) 193.7178\n",
            "(epoch) 5 (batch) 80 (loss) 326.3239\n",
            "(epoch) 5 (batch) 160 (loss) 423.3615\n",
            "(epoch) 5 (batch) 240 (loss) 366.1051\n",
            "(epoch) 5 (batch) 320 (loss) 704.9022\n",
            "(epoch) 5 (batch) 400 (loss) 822.7667\n"
          ]
        }
      ]
    },
    {
      "cell_type": "markdown",
      "source": [
        "Тут вижу еще три проблемы:\n",
        "\n",
        "а) Модель FT-Transformer не доучена, соответственно плохо моделирует спрос, слабо реагирует на повышение цены\n",
        "\n",
        "б) Нужно учить две модели одновременно, по типу GAN'ов, как в статье https://arxiv.org/pdf/1706.03459.pdf, например\n",
        "\n",
        "в) И даже так возникает много вопросов к процедуре: а именно как регулировать силу оптимизаторов (в частности, с этим у меня возникли проблемы при написании курсовой: https://github.com/VileBody/OEAuctionsTermPaper"
      ],
      "metadata": {
        "id": "7wCvotNAp77r"
      }
    },
    {
      "cell_type": "code",
      "source": [
        "from matplotlib import pyplot as plt \n",
        "plt.plot(np.arange(len(revs_real)), revs_opt)\n",
        "plt.plot(np.arange(len(revs_real)), revs_real)"
      ],
      "metadata": {
        "colab": {
          "base_uri": "https://localhost:8080/",
          "height": 282
        },
        "id": "JImroKO2k78j",
        "outputId": "026465fd-5f83-4a1c-9626-be81a36b13fa"
      },
      "execution_count": 331,
      "outputs": [
        {
          "output_type": "execute_result",
          "data": {
            "text/plain": [
              "[<matplotlib.lines.Line2D at 0x7f295dfdfc50>]"
            ]
          },
          "metadata": {},
          "execution_count": 331
        },
        {
          "output_type": "display_data",
          "data": {
            "text/plain": [
              "<Figure size 432x288 with 1 Axes>"
            ],
            "image/png": "[encoded data removed]"
          },
          "metadata": {
            "needs_background": "light"
          }
        }
      ]
    }
  ]
}